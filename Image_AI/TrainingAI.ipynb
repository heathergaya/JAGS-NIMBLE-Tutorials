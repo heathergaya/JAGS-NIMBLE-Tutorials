{
 "cells": [
  {
   "cell_type": "code",
   "execution_count": 163,
   "id": "05cf1d8c-b5d1-4a89-8f79-e2aff1b8fb70",
   "metadata": {},
   "outputs": [],
   "source": [
    "#%pip install ultralytics\n",
    "from ultralytics import YOLO\n",
    "import inference\n",
    "import os\n",
    "import shutil\n",
    "import numpy as np\n",
    "from collections import Counter\n",
    "import supervision as sv"
   ]
  },
  {
   "cell_type": "code",
   "execution_count": null,
   "id": "24cd6728-15b4-40f1-aaba-38108fdb3122",
   "metadata": {},
   "outputs": [
    {
     "name": "stdout",
     "output_type": "stream",
     "text": [
      "New https://pypi.org/project/ultralytics/8.2.98 available 😃 Update with 'pip install -U ultralytics'\n",
      "Ultralytics YOLOv8.2.92 🚀 Python-3.10.14 torch-2.2.2 CPU (Apple M1 Max)\n",
      "\u001b[34m\u001b[1mengine/trainer: \u001b[0mtask=detect, mode=train, model=/Users/heather/yolov8n.pt, data=/Users/heather/Collars/data.yaml, epochs=100, time=None, patience=15, batch=20, imgsz=1280, save=True, save_period=-1, cache=False, device=None, workers=8, project=None, name=yolov8n_collars, exist_ok=False, pretrained=True, optimizer=auto, verbose=True, seed=0, deterministic=True, single_cls=False, rect=False, cos_lr=False, close_mosaic=10, resume=False, amp=True, fraction=1.0, profile=False, freeze=None, multi_scale=False, overlap_mask=True, mask_ratio=4, dropout=0.0, val=True, split=val, save_json=False, save_hybrid=False, conf=None, iou=0.7, max_det=300, half=False, dnn=False, plots=True, source=None, vid_stride=1, stream_buffer=False, visualize=False, augment=False, agnostic_nms=False, classes=None, retina_masks=False, embed=None, show=False, save_frames=False, save_txt=False, save_conf=False, save_crop=False, show_labels=True, show_conf=True, show_boxes=True, line_width=None, format=torchscript, keras=False, optimize=False, int8=False, dynamic=False, simplify=False, opset=None, workspace=4, nms=False, lr0=0.01, lrf=0.01, momentum=0.937, weight_decay=0.0005, warmup_epochs=3.0, warmup_momentum=0.8, warmup_bias_lr=0.1, box=7.5, cls=0.5, dfl=1.5, pose=12.0, kobj=1.0, label_smoothing=0.0, nbs=64, hsv_h=0.015, hsv_s=0.7, hsv_v=0.4, degrees=0.0, translate=0.1, scale=0.5, shear=0.0, perspective=0.0, flipud=0.0, fliplr=0.5, bgr=0.0, mosaic=1.0, mixup=0.0, copy_paste=0.0, auto_augment=randaugment, erasing=0.4, crop_fraction=1.0, cfg=None, tracker=botsort.yaml, save_dir=runs/detect/yolov8n_collars\n",
      "Overriding model.yaml nc=80 with nc=1\n",
      "\n",
      "                   from  n    params  module                                       arguments                     \n",
      "  0                  -1  1       464  ultralytics.nn.modules.conv.Conv             [3, 16, 3, 2]                 \n",
      "  1                  -1  1      4672  ultralytics.nn.modules.conv.Conv             [16, 32, 3, 2]                \n",
      "  2                  -1  1      7360  ultralytics.nn.modules.block.C2f             [32, 32, 1, True]             \n",
      "  3                  -1  1     18560  ultralytics.nn.modules.conv.Conv             [32, 64, 3, 2]                \n",
      "  4                  -1  2     49664  ultralytics.nn.modules.block.C2f             [64, 64, 2, True]             \n",
      "  5                  -1  1     73984  ultralytics.nn.modules.conv.Conv             [64, 128, 3, 2]               \n",
      "  6                  -1  2    197632  ultralytics.nn.modules.block.C2f             [128, 128, 2, True]           \n",
      "  7                  -1  1    295424  ultralytics.nn.modules.conv.Conv             [128, 256, 3, 2]              \n",
      "  8                  -1  1    460288  ultralytics.nn.modules.block.C2f             [256, 256, 1, True]           \n",
      "  9                  -1  1    164608  ultralytics.nn.modules.block.SPPF            [256, 256, 5]                 \n",
      " 10                  -1  1         0  torch.nn.modules.upsampling.Upsample         [None, 2, 'nearest']          \n",
      " 11             [-1, 6]  1         0  ultralytics.nn.modules.conv.Concat           [1]                           \n",
      " 12                  -1  1    148224  ultralytics.nn.modules.block.C2f             [384, 128, 1]                 \n",
      " 13                  -1  1         0  torch.nn.modules.upsampling.Upsample         [None, 2, 'nearest']          \n",
      " 14             [-1, 4]  1         0  ultralytics.nn.modules.conv.Concat           [1]                           \n",
      " 15                  -1  1     37248  ultralytics.nn.modules.block.C2f             [192, 64, 1]                  \n",
      " 16                  -1  1     36992  ultralytics.nn.modules.conv.Conv             [64, 64, 3, 2]                \n",
      " 17            [-1, 12]  1         0  ultralytics.nn.modules.conv.Concat           [1]                           \n",
      " 18                  -1  1    123648  ultralytics.nn.modules.block.C2f             [192, 128, 1]                 \n",
      " 19                  -1  1    147712  ultralytics.nn.modules.conv.Conv             [128, 128, 3, 2]              \n",
      " 20             [-1, 9]  1         0  ultralytics.nn.modules.conv.Concat           [1]                           \n",
      " 21                  -1  1    493056  ultralytics.nn.modules.block.C2f             [384, 256, 1]                 \n",
      " 22        [15, 18, 21]  1    751507  ultralytics.nn.modules.head.Detect           [1, [64, 128, 256]]           \n",
      "Model summary: 225 layers, 3,011,043 parameters, 3,011,027 gradients, 8.2 GFLOPs\n",
      "\n",
      "Transferred 319/355 items from pretrained weights\n",
      "Freezing layer 'model.22.dfl.conv.weight'\n"
     ]
    },
    {
     "name": "stderr",
     "output_type": "stream",
     "text": [
      "\u001b[34m\u001b[1mtrain: \u001b[0mScanning /Users/heather/Collars/train/labels... 330 images, 44 background\u001b[0m"
     ]
    },
    {
     "name": "stdout",
     "output_type": "stream",
     "text": [
      "\u001b[34m\u001b[1mtrain: \u001b[0mNew cache created: /Users/heather/Collars/train/labels.cache\n",
      "WARNING ⚠️ Box and segment counts should be equal, but got len(segments) = 17, len(boxes) = 301. To resolve this only boxes will be used and all segments will be removed. To avoid this please supply either a detect or segment dataset, not a detect-segment mixed dataset.\n"
     ]
    },
    {
     "name": "stderr",
     "output_type": "stream",
     "text": [
      "\n",
      "\u001b[34m\u001b[1mval: \u001b[0mScanning /Users/heather/Collars/valid/labels... 101 images, 15 backgrounds,\u001b[0m"
     ]
    },
    {
     "name": "stdout",
     "output_type": "stream",
     "text": [
      "\u001b[34m\u001b[1mval: \u001b[0mNew cache created: /Users/heather/Collars/valid/labels.cache\n",
      "WARNING ⚠️ Box and segment counts should be equal, but got len(segments) = 3, len(boxes) = 89. To resolve this only boxes will be used and all segments will be removed. To avoid this please supply either a detect or segment dataset, not a detect-segment mixed dataset.\n",
      "Plotting labels to runs/detect/yolov8n_collars/labels.jpg... \n"
     ]
    },
    {
     "name": "stderr",
     "output_type": "stream",
     "text": [
      "\n"
     ]
    },
    {
     "name": "stdout",
     "output_type": "stream",
     "text": [
      "\u001b[34m\u001b[1moptimizer:\u001b[0m 'optimizer=auto' found, ignoring 'lr0=0.01' and 'momentum=0.937' and determining best 'optimizer', 'lr0' and 'momentum' automatically... \n",
      "\u001b[34m\u001b[1moptimizer:\u001b[0m AdamW(lr=0.002, momentum=0.9) with parameter groups 57 weight(decay=0.0), 64 weight(decay=0.00046875), 63 bias(decay=0.0)\n",
      "Image sizes 1280 train, 1280 val\n",
      "Using 0 dataloader workers\n",
      "Logging results to \u001b[1mruns/detect/yolov8n_collars\u001b[0m\n",
      "Starting training for 100 epochs...\n",
      "\n",
      "      Epoch    GPU_mem   box_loss   cls_loss   dfl_loss  Instances       Size\n"
     ]
    },
    {
     "name": "stderr",
     "output_type": "stream",
     "text": [
      "      1/100         0G      2.908       15.1      2.678         23       1280:  "
     ]
    }
   ],
   "source": [
    "model = YOLO('/Users/heather/yolov8n.pt') # for main AI\n",
    "results = model.train(\n",
    "   data='/Users/heather/Collars/data.yaml',\n",
    "   imgsz=1280,\n",
    "   epochs=100,\n",
    "   batch=20,\n",
    "   patience = 15,\n",
    "   name='yolov8n_collars',\n",
    "   plots = True) #fullmodel\n",
    "\n",
    "#model = YOLO('/Users/heather/yolov8n.pt')\n",
    "#results = model.train(\n",
    "#   data='/Users/heather/earclips/data.yaml',\n",
    "#   imgsz=1280,\n",
    "#   epochs=100,\n",
    "#   batch=20,\n",
    "#   patience = 20,\n",
    "#   name='yolov8n_earclips',\n",
    "#   plots = True) #ear clips"
   ]
  },
  {
   "cell_type": "code",
   "execution_count": 157,
   "id": "49b35748-f01e-4f32-b605-74591e8a795a",
   "metadata": {},
   "outputs": [],
   "source": [
    "model = YOLO('/Users/heather/runs/detect/yolov8n_eartags/weights/best.pt') #eartags\n",
    "#model = YOLO('/Users/heather/runs/detect/yolov8n_earclips/weights/best.pt') #earclips"
   ]
  },
  {
   "cell_type": "code",
   "execution_count": 158,
   "id": "f7f185e4-549e-479b-b142-85ebd521e766",
   "metadata": {},
   "outputs": [
    {
     "name": "stdout",
     "output_type": "stream",
     "text": [
      "tagged\n",
      "tagged\n",
      "tagged\n",
      "tagged\n",
      "tagged\n",
      "tagged\n",
      "tagged\n",
      "tagged\n",
      "tagged\n",
      "tagged\n",
      "tagged\n",
      "tagged\n",
      "tagged\n",
      "tagged\n",
      "tagged\n",
      "tagged\n",
      "tagged\n",
      "tagged\n",
      "tagged\n",
      "tagged\n",
      "tagged\n",
      "tagged\n",
      "tagged\n",
      "tagged\n",
      "tagged\n",
      "tagged\n",
      "tagged\n",
      "tagged\n",
      "tagged\n",
      "tagged\n",
      "tagged\n",
      "tagged\n",
      "tagged\n",
      "tagged\n",
      "tagged\n",
      "tagged\n",
      "tagged\n",
      "tagged\n",
      "All images processed through tag only AIs. Time for second AI.\n"
     ]
    }
   ],
   "source": [
    "image_folder = '/Users/heather/Desktop/U_Georgia/Chandler_Meetings/heather/CWD_Postdoc/Billionphotos/GR31_07.05.24/MDoutput_07_05_24/animals/deer'\n",
    "destination_folder = image_folder\n",
    "    \n",
    "def get_folder_name(predictions):\n",
    "    class_counts = Counter(predictions)\n",
    "    #print(class_counts)\n",
    "    # If there are no class names, use \"no_dets\"\n",
    "    if not class_counts:\n",
    "        return \"no_dets\"\n",
    "    \n",
    "    # Create a list of class names with counts, sorted alphabetically by class name\n",
    "    folder_parts = [f\"{count}{class_name}\" for class_name, count in sorted(class_counts.items())]\n",
    "\n",
    "    # Join parts with underscores\n",
    "    folder_name = \"_\".join(folder_parts)\n",
    "\n",
    "    if any(word in folder_name.lower() for word in [\"collar\", \"eartag\", \"cliptag\"]):\n",
    "        return \"tagged\"\n",
    "\n",
    "    if folder_name == \"1fawn_1male-deer\":\n",
    "        folder_name = \"1Female deer_1fawn\"\n",
    "    \n",
    "    return folder_name\n",
    "\n",
    "\n",
    "# Ensure destination folder exists\n",
    "os.makedirs(destination_folder, exist_ok=True)\n",
    "\n",
    "for filename in os.listdir(image_folder):\n",
    "    # Check if the file is an image (you might want to adjust the extensions)\n",
    "    if filename.lower().endswith(('.png', '.jpg', '.jpeg')):\n",
    "        # Construct the full path to the image\n",
    "        image_path = os.path.join(image_folder, filename)\n",
    "        #print(image_path)\n",
    "        # Process the image\n",
    "        results = model.predict(image_path, conf= .5, verbose = False)\n",
    "        #results[0].boxes.conf\n",
    "        if results[0].boxes.conf.numel() == 0:\n",
    "            #print('no')   \n",
    "            continue\n",
    "        else: \n",
    "                folder_name = 'tagged'\n",
    "\n",
    "        print(folder_name)\n",
    "        \n",
    "        # Define the destination path\n",
    "        dest_folder = os.path.join(destination_folder, folder_name)\n",
    "        # Create the folder if it doesn't exist\n",
    "        os.makedirs(dest_folder, exist_ok=True)\n",
    "        # Define the source and destination paths\n",
    "        src_path = os.path.join(image_folder, filename)\n",
    "        dest_path = os.path.join(dest_folder, filename)\n",
    "        # Move the file\n",
    "        shutil.move(src_path, dest_path)\n",
    "        #print(f\"Moved {src_path} to {dest_path}\")\n",
    "\n",
    "print(\"All images processed through tag only AIs. Time for second AI.\")"
   ]
  },
  {
   "cell_type": "code",
   "execution_count": null,
   "id": "9b7c44f5-fd2b-4e3c-a2c8-3349c6e1865d",
   "metadata": {},
   "outputs": [],
   "source": []
  }
 ],
 "metadata": {
  "kernelspec": {
   "display_name": "Python 3 (ipykernel)",
   "language": "python",
   "name": "python3"
  },
  "language_info": {
   "codemirror_mode": {
    "name": "ipython",
    "version": 3
   },
   "file_extension": ".py",
   "mimetype": "text/x-python",
   "name": "python",
   "nbconvert_exporter": "python",
   "pygments_lexer": "ipython3",
   "version": "3.10.14"
  }
 },
 "nbformat": 4,
 "nbformat_minor": 5
}
